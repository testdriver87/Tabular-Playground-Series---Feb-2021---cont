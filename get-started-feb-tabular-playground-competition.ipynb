{
 "cells": [
  {
   "cell_type": "markdown",
   "metadata": {
    "papermill": {
     "duration": 0.012041,
     "end_time": "2021-03-07T20:50:08.091318",
     "exception": false,
     "start_time": "2021-03-07T20:50:08.079277",
     "status": "completed"
    },
    "tags": []
   },
   "source": [
    "In this notebook, you will learn how to make your first submission to the [Tabular Playground Series - Feb 2021 competition.](https://www.kaggle.com/c/tabular-playground-series-feb-2021)\n",
    "\n",
    "# Make the most of this notebook!\n",
    "\n",
    "You can use the \"Copy and Edit\" button in the upper right of the page to create your own copy of this notebook and experiment with different models. You can run it as is and then see if you can make improvements."
   ]
  },
  {
   "cell_type": "code",
   "execution_count": 1,
   "metadata": {
    "_cell_guid": "b1076dfc-b9ad-4769-8c92-a6c4dae69d19",
    "_uuid": "8f2839f25d086af736a60e9eeb907d3b93b6e0e5",
    "execution": {
     "iopub.execute_input": "2021-03-07T20:50:08.118247Z",
     "iopub.status.busy": "2021-03-07T20:50:08.117247Z",
     "iopub.status.idle": "2021-03-07T20:50:09.348094Z",
     "shell.execute_reply": "2021-03-07T20:50:09.347364Z"
    },
    "papermill": {
     "duration": 1.245474,
     "end_time": "2021-03-07T20:50:09.348304",
     "exception": false,
     "start_time": "2021-03-07T20:50:08.102830",
     "status": "completed"
    },
    "tags": []
   },
   "outputs": [
    {
     "name": "stdout",
     "output_type": "stream",
     "text": [
      "/kaggle/input/tabular-playground-series-feb-2021/sample_submission.csv\n",
      "/kaggle/input/tabular-playground-series-feb-2021/train.csv\n",
      "/kaggle/input/tabular-playground-series-feb-2021/test.csv\n"
     ]
    }
   ],
   "source": [
    "import numpy as np\n",
    "import pandas as pd\n",
    "from pathlib import Path\n",
    "\n",
    "import os\n",
    "for dirname, _, filenames in os.walk('/kaggle/input'):\n",
    "    for filename in filenames:\n",
    "        print(os.path.join(dirname, filename))\n",
    "        \n",
    "import matplotlib.pyplot as plt\n",
    "\n",
    "from sklearn.model_selection import train_test_split\n",
    "from sklearn.metrics import mean_squared_error\n",
    "from sklearn.preprocessing import LabelEncoder\n",
    "\n",
    "from sklearn.dummy import DummyRegressor\n",
    "from sklearn.linear_model import LinearRegression\n",
    "from sklearn.linear_model import Ridge, Lasso\n",
    "from sklearn.ensemble import RandomForestRegressor\n",
    "        \n",
    "input_path = Path('/kaggle/input/tabular-playground-series-feb-2021/')"
   ]
  },
  {
   "cell_type": "markdown",
   "metadata": {
    "papermill": {
     "duration": 0.011169,
     "end_time": "2021-03-07T20:50:09.372536",
     "exception": false,
     "start_time": "2021-03-07T20:50:09.361367",
     "status": "completed"
    },
    "tags": []
   },
   "source": [
    "# Read in the data files"
   ]
  },
  {
   "cell_type": "code",
   "execution_count": 2,
   "metadata": {
    "execution": {
     "iopub.execute_input": "2021-03-07T20:50:09.402691Z",
     "iopub.status.busy": "2021-03-07T20:50:09.401805Z",
     "iopub.status.idle": "2021-03-07T20:50:12.080832Z",
     "shell.execute_reply": "2021-03-07T20:50:12.080248Z"
    },
    "papermill": {
     "duration": 2.69699,
     "end_time": "2021-03-07T20:50:12.080976",
     "exception": false,
     "start_time": "2021-03-07T20:50:09.383986",
     "status": "completed"
    },
    "tags": []
   },
   "outputs": [
    {
     "data": {
      "text/html": [
       "<div>\n",
       "<style scoped>\n",
       "    .dataframe tbody tr th:only-of-type {\n",
       "        vertical-align: middle;\n",
       "    }\n",
       "\n",
       "    .dataframe tbody tr th {\n",
       "        vertical-align: top;\n",
       "    }\n",
       "\n",
       "    .dataframe thead th {\n",
       "        text-align: right;\n",
       "    }\n",
       "</style>\n",
       "<table border=\"1\" class=\"dataframe\">\n",
       "  <thead>\n",
       "    <tr style=\"text-align: right;\">\n",
       "      <th></th>\n",
       "      <th>cat0</th>\n",
       "      <th>cat1</th>\n",
       "      <th>cat2</th>\n",
       "      <th>cat3</th>\n",
       "      <th>cat4</th>\n",
       "      <th>cat5</th>\n",
       "      <th>cat6</th>\n",
       "      <th>cat7</th>\n",
       "      <th>cat8</th>\n",
       "      <th>cat9</th>\n",
       "      <th>...</th>\n",
       "      <th>cont5</th>\n",
       "      <th>cont6</th>\n",
       "      <th>cont7</th>\n",
       "      <th>cont8</th>\n",
       "      <th>cont9</th>\n",
       "      <th>cont10</th>\n",
       "      <th>cont11</th>\n",
       "      <th>cont12</th>\n",
       "      <th>cont13</th>\n",
       "      <th>target</th>\n",
       "    </tr>\n",
       "    <tr>\n",
       "      <th>id</th>\n",
       "      <th></th>\n",
       "      <th></th>\n",
       "      <th></th>\n",
       "      <th></th>\n",
       "      <th></th>\n",
       "      <th></th>\n",
       "      <th></th>\n",
       "      <th></th>\n",
       "      <th></th>\n",
       "      <th></th>\n",
       "      <th></th>\n",
       "      <th></th>\n",
       "      <th></th>\n",
       "      <th></th>\n",
       "      <th></th>\n",
       "      <th></th>\n",
       "      <th></th>\n",
       "      <th></th>\n",
       "      <th></th>\n",
       "      <th></th>\n",
       "      <th></th>\n",
       "    </tr>\n",
       "  </thead>\n",
       "  <tbody>\n",
       "    <tr>\n",
       "      <th>1</th>\n",
       "      <td>A</td>\n",
       "      <td>B</td>\n",
       "      <td>A</td>\n",
       "      <td>A</td>\n",
       "      <td>B</td>\n",
       "      <td>D</td>\n",
       "      <td>A</td>\n",
       "      <td>E</td>\n",
       "      <td>C</td>\n",
       "      <td>I</td>\n",
       "      <td>...</td>\n",
       "      <td>0.881122</td>\n",
       "      <td>0.421650</td>\n",
       "      <td>0.741413</td>\n",
       "      <td>0.895799</td>\n",
       "      <td>0.802461</td>\n",
       "      <td>0.724417</td>\n",
       "      <td>0.701915</td>\n",
       "      <td>0.877618</td>\n",
       "      <td>0.719903</td>\n",
       "      <td>6.994023</td>\n",
       "    </tr>\n",
       "    <tr>\n",
       "      <th>2</th>\n",
       "      <td>B</td>\n",
       "      <td>A</td>\n",
       "      <td>A</td>\n",
       "      <td>A</td>\n",
       "      <td>B</td>\n",
       "      <td>B</td>\n",
       "      <td>A</td>\n",
       "      <td>E</td>\n",
       "      <td>A</td>\n",
       "      <td>F</td>\n",
       "      <td>...</td>\n",
       "      <td>0.440011</td>\n",
       "      <td>0.346230</td>\n",
       "      <td>0.278495</td>\n",
       "      <td>0.593413</td>\n",
       "      <td>0.546056</td>\n",
       "      <td>0.613252</td>\n",
       "      <td>0.741289</td>\n",
       "      <td>0.326679</td>\n",
       "      <td>0.808464</td>\n",
       "      <td>8.071256</td>\n",
       "    </tr>\n",
       "    <tr>\n",
       "      <th>3</th>\n",
       "      <td>A</td>\n",
       "      <td>A</td>\n",
       "      <td>A</td>\n",
       "      <td>C</td>\n",
       "      <td>B</td>\n",
       "      <td>D</td>\n",
       "      <td>A</td>\n",
       "      <td>B</td>\n",
       "      <td>C</td>\n",
       "      <td>N</td>\n",
       "      <td>...</td>\n",
       "      <td>0.914155</td>\n",
       "      <td>0.369602</td>\n",
       "      <td>0.832564</td>\n",
       "      <td>0.865620</td>\n",
       "      <td>0.825251</td>\n",
       "      <td>0.264104</td>\n",
       "      <td>0.695561</td>\n",
       "      <td>0.869133</td>\n",
       "      <td>0.828352</td>\n",
       "      <td>5.760456</td>\n",
       "    </tr>\n",
       "    <tr>\n",
       "      <th>4</th>\n",
       "      <td>A</td>\n",
       "      <td>A</td>\n",
       "      <td>A</td>\n",
       "      <td>C</td>\n",
       "      <td>B</td>\n",
       "      <td>D</td>\n",
       "      <td>A</td>\n",
       "      <td>E</td>\n",
       "      <td>G</td>\n",
       "      <td>K</td>\n",
       "      <td>...</td>\n",
       "      <td>0.934138</td>\n",
       "      <td>0.578930</td>\n",
       "      <td>0.407313</td>\n",
       "      <td>0.868099</td>\n",
       "      <td>0.794402</td>\n",
       "      <td>0.494269</td>\n",
       "      <td>0.698125</td>\n",
       "      <td>0.809799</td>\n",
       "      <td>0.614766</td>\n",
       "      <td>7.806457</td>\n",
       "    </tr>\n",
       "    <tr>\n",
       "      <th>6</th>\n",
       "      <td>A</td>\n",
       "      <td>B</td>\n",
       "      <td>A</td>\n",
       "      <td>A</td>\n",
       "      <td>B</td>\n",
       "      <td>B</td>\n",
       "      <td>A</td>\n",
       "      <td>E</td>\n",
       "      <td>C</td>\n",
       "      <td>F</td>\n",
       "      <td>...</td>\n",
       "      <td>0.382600</td>\n",
       "      <td>0.705940</td>\n",
       "      <td>0.325193</td>\n",
       "      <td>0.440967</td>\n",
       "      <td>0.462146</td>\n",
       "      <td>0.724447</td>\n",
       "      <td>0.683073</td>\n",
       "      <td>0.343457</td>\n",
       "      <td>0.297743</td>\n",
       "      <td>6.868974</td>\n",
       "    </tr>\n",
       "  </tbody>\n",
       "</table>\n",
       "<p>5 rows × 25 columns</p>\n",
       "</div>"
      ],
      "text/plain": [
       "   cat0 cat1 cat2 cat3 cat4 cat5 cat6 cat7 cat8 cat9  ...     cont5     cont6  \\\n",
       "id                                                    ...                       \n",
       "1     A    B    A    A    B    D    A    E    C    I  ...  0.881122  0.421650   \n",
       "2     B    A    A    A    B    B    A    E    A    F  ...  0.440011  0.346230   \n",
       "3     A    A    A    C    B    D    A    B    C    N  ...  0.914155  0.369602   \n",
       "4     A    A    A    C    B    D    A    E    G    K  ...  0.934138  0.578930   \n",
       "6     A    B    A    A    B    B    A    E    C    F  ...  0.382600  0.705940   \n",
       "\n",
       "       cont7     cont8     cont9    cont10    cont11    cont12    cont13  \\\n",
       "id                                                                         \n",
       "1   0.741413  0.895799  0.802461  0.724417  0.701915  0.877618  0.719903   \n",
       "2   0.278495  0.593413  0.546056  0.613252  0.741289  0.326679  0.808464   \n",
       "3   0.832564  0.865620  0.825251  0.264104  0.695561  0.869133  0.828352   \n",
       "4   0.407313  0.868099  0.794402  0.494269  0.698125  0.809799  0.614766   \n",
       "6   0.325193  0.440967  0.462146  0.724447  0.683073  0.343457  0.297743   \n",
       "\n",
       "      target  \n",
       "id            \n",
       "1   6.994023  \n",
       "2   8.071256  \n",
       "3   5.760456  \n",
       "4   7.806457  \n",
       "6   6.868974  \n",
       "\n",
       "[5 rows x 25 columns]"
      ]
     },
     "metadata": {},
     "output_type": "display_data"
    }
   ],
   "source": [
    "train = pd.read_csv(input_path / 'train.csv', index_col='id')\n",
    "display(train.head())"
   ]
  },
  {
   "cell_type": "code",
   "execution_count": 3,
   "metadata": {
    "execution": {
     "iopub.execute_input": "2021-03-07T20:50:12.111041Z",
     "iopub.status.busy": "2021-03-07T20:50:12.110327Z",
     "iopub.status.idle": "2021-03-07T20:50:13.667718Z",
     "shell.execute_reply": "2021-03-07T20:50:13.667180Z"
    },
    "papermill": {
     "duration": 1.574426,
     "end_time": "2021-03-07T20:50:13.667882",
     "exception": false,
     "start_time": "2021-03-07T20:50:12.093456",
     "status": "completed"
    },
    "tags": []
   },
   "outputs": [
    {
     "data": {
      "text/html": [
       "<div>\n",
       "<style scoped>\n",
       "    .dataframe tbody tr th:only-of-type {\n",
       "        vertical-align: middle;\n",
       "    }\n",
       "\n",
       "    .dataframe tbody tr th {\n",
       "        vertical-align: top;\n",
       "    }\n",
       "\n",
       "    .dataframe thead th {\n",
       "        text-align: right;\n",
       "    }\n",
       "</style>\n",
       "<table border=\"1\" class=\"dataframe\">\n",
       "  <thead>\n",
       "    <tr style=\"text-align: right;\">\n",
       "      <th></th>\n",
       "      <th>cat0</th>\n",
       "      <th>cat1</th>\n",
       "      <th>cat2</th>\n",
       "      <th>cat3</th>\n",
       "      <th>cat4</th>\n",
       "      <th>cat5</th>\n",
       "      <th>cat6</th>\n",
       "      <th>cat7</th>\n",
       "      <th>cat8</th>\n",
       "      <th>cat9</th>\n",
       "      <th>...</th>\n",
       "      <th>cont4</th>\n",
       "      <th>cont5</th>\n",
       "      <th>cont6</th>\n",
       "      <th>cont7</th>\n",
       "      <th>cont8</th>\n",
       "      <th>cont9</th>\n",
       "      <th>cont10</th>\n",
       "      <th>cont11</th>\n",
       "      <th>cont12</th>\n",
       "      <th>cont13</th>\n",
       "    </tr>\n",
       "    <tr>\n",
       "      <th>id</th>\n",
       "      <th></th>\n",
       "      <th></th>\n",
       "      <th></th>\n",
       "      <th></th>\n",
       "      <th></th>\n",
       "      <th></th>\n",
       "      <th></th>\n",
       "      <th></th>\n",
       "      <th></th>\n",
       "      <th></th>\n",
       "      <th></th>\n",
       "      <th></th>\n",
       "      <th></th>\n",
       "      <th></th>\n",
       "      <th></th>\n",
       "      <th></th>\n",
       "      <th></th>\n",
       "      <th></th>\n",
       "      <th></th>\n",
       "      <th></th>\n",
       "      <th></th>\n",
       "    </tr>\n",
       "  </thead>\n",
       "  <tbody>\n",
       "    <tr>\n",
       "      <th>0</th>\n",
       "      <td>A</td>\n",
       "      <td>B</td>\n",
       "      <td>A</td>\n",
       "      <td>C</td>\n",
       "      <td>B</td>\n",
       "      <td>D</td>\n",
       "      <td>A</td>\n",
       "      <td>E</td>\n",
       "      <td>E</td>\n",
       "      <td>G</td>\n",
       "      <td>...</td>\n",
       "      <td>0.701679</td>\n",
       "      <td>0.595507</td>\n",
       "      <td>0.286912</td>\n",
       "      <td>0.279884</td>\n",
       "      <td>0.202234</td>\n",
       "      <td>0.242654</td>\n",
       "      <td>0.285147</td>\n",
       "      <td>0.264308</td>\n",
       "      <td>0.653654</td>\n",
       "      <td>0.302448</td>\n",
       "    </tr>\n",
       "    <tr>\n",
       "      <th>5</th>\n",
       "      <td>A</td>\n",
       "      <td>B</td>\n",
       "      <td>A</td>\n",
       "      <td>C</td>\n",
       "      <td>B</td>\n",
       "      <td>D</td>\n",
       "      <td>A</td>\n",
       "      <td>E</td>\n",
       "      <td>C</td>\n",
       "      <td>L</td>\n",
       "      <td>...</td>\n",
       "      <td>0.277480</td>\n",
       "      <td>0.479552</td>\n",
       "      <td>0.397436</td>\n",
       "      <td>0.476742</td>\n",
       "      <td>0.857073</td>\n",
       "      <td>0.516393</td>\n",
       "      <td>0.562065</td>\n",
       "      <td>0.730542</td>\n",
       "      <td>0.318492</td>\n",
       "      <td>0.736251</td>\n",
       "    </tr>\n",
       "    <tr>\n",
       "      <th>15</th>\n",
       "      <td>A</td>\n",
       "      <td>B</td>\n",
       "      <td>A</td>\n",
       "      <td>C</td>\n",
       "      <td>B</td>\n",
       "      <td>D</td>\n",
       "      <td>A</td>\n",
       "      <td>E</td>\n",
       "      <td>C</td>\n",
       "      <td>F</td>\n",
       "      <td>...</td>\n",
       "      <td>0.279508</td>\n",
       "      <td>0.676395</td>\n",
       "      <td>0.695284</td>\n",
       "      <td>0.253316</td>\n",
       "      <td>0.586934</td>\n",
       "      <td>0.548555</td>\n",
       "      <td>0.836193</td>\n",
       "      <td>0.759788</td>\n",
       "      <td>0.333572</td>\n",
       "      <td>0.273905</td>\n",
       "    </tr>\n",
       "    <tr>\n",
       "      <th>16</th>\n",
       "      <td>A</td>\n",
       "      <td>A</td>\n",
       "      <td>B</td>\n",
       "      <td>A</td>\n",
       "      <td>B</td>\n",
       "      <td>D</td>\n",
       "      <td>A</td>\n",
       "      <td>E</td>\n",
       "      <td>E</td>\n",
       "      <td>F</td>\n",
       "      <td>...</td>\n",
       "      <td>0.479503</td>\n",
       "      <td>0.759875</td>\n",
       "      <td>0.240049</td>\n",
       "      <td>0.298074</td>\n",
       "      <td>0.442475</td>\n",
       "      <td>0.596746</td>\n",
       "      <td>0.414131</td>\n",
       "      <td>0.255382</td>\n",
       "      <td>0.589080</td>\n",
       "      <td>0.311625</td>\n",
       "    </tr>\n",
       "    <tr>\n",
       "      <th>17</th>\n",
       "      <td>A</td>\n",
       "      <td>B</td>\n",
       "      <td>A</td>\n",
       "      <td>A</td>\n",
       "      <td>B</td>\n",
       "      <td>B</td>\n",
       "      <td>A</td>\n",
       "      <td>E</td>\n",
       "      <td>E</td>\n",
       "      <td>I</td>\n",
       "      <td>...</td>\n",
       "      <td>0.757845</td>\n",
       "      <td>0.210232</td>\n",
       "      <td>0.329851</td>\n",
       "      <td>0.616663</td>\n",
       "      <td>0.170475</td>\n",
       "      <td>0.263235</td>\n",
       "      <td>0.710961</td>\n",
       "      <td>0.224045</td>\n",
       "      <td>0.285860</td>\n",
       "      <td>0.794931</td>\n",
       "    </tr>\n",
       "  </tbody>\n",
       "</table>\n",
       "<p>5 rows × 24 columns</p>\n",
       "</div>"
      ],
      "text/plain": [
       "   cat0 cat1 cat2 cat3 cat4 cat5 cat6 cat7 cat8 cat9  ...     cont4     cont5  \\\n",
       "id                                                    ...                       \n",
       "0     A    B    A    C    B    D    A    E    E    G  ...  0.701679  0.595507   \n",
       "5     A    B    A    C    B    D    A    E    C    L  ...  0.277480  0.479552   \n",
       "15    A    B    A    C    B    D    A    E    C    F  ...  0.279508  0.676395   \n",
       "16    A    A    B    A    B    D    A    E    E    F  ...  0.479503  0.759875   \n",
       "17    A    B    A    A    B    B    A    E    E    I  ...  0.757845  0.210232   \n",
       "\n",
       "       cont6     cont7     cont8     cont9    cont10    cont11    cont12  \\\n",
       "id                                                                         \n",
       "0   0.286912  0.279884  0.202234  0.242654  0.285147  0.264308  0.653654   \n",
       "5   0.397436  0.476742  0.857073  0.516393  0.562065  0.730542  0.318492   \n",
       "15  0.695284  0.253316  0.586934  0.548555  0.836193  0.759788  0.333572   \n",
       "16  0.240049  0.298074  0.442475  0.596746  0.414131  0.255382  0.589080   \n",
       "17  0.329851  0.616663  0.170475  0.263235  0.710961  0.224045  0.285860   \n",
       "\n",
       "      cont13  \n",
       "id            \n",
       "0   0.302448  \n",
       "5   0.736251  \n",
       "15  0.273905  \n",
       "16  0.311625  \n",
       "17  0.794931  \n",
       "\n",
       "[5 rows x 24 columns]"
      ]
     },
     "metadata": {},
     "output_type": "display_data"
    }
   ],
   "source": [
    "test = pd.read_csv(input_path / 'test.csv', index_col='id')\n",
    "display(test.head())"
   ]
  },
  {
   "cell_type": "code",
   "execution_count": 4,
   "metadata": {
    "execution": {
     "iopub.execute_input": "2021-03-07T20:50:13.701028Z",
     "iopub.status.busy": "2021-03-07T20:50:13.700392Z",
     "iopub.status.idle": "2021-03-07T20:50:13.812378Z",
     "shell.execute_reply": "2021-03-07T20:50:13.811799Z"
    },
    "papermill": {
     "duration": 0.130765,
     "end_time": "2021-03-07T20:50:13.812526",
     "exception": false,
     "start_time": "2021-03-07T20:50:13.681761",
     "status": "completed"
    },
    "tags": []
   },
   "outputs": [
    {
     "data": {
      "text/html": [
       "<div>\n",
       "<style scoped>\n",
       "    .dataframe tbody tr th:only-of-type {\n",
       "        vertical-align: middle;\n",
       "    }\n",
       "\n",
       "    .dataframe tbody tr th {\n",
       "        vertical-align: top;\n",
       "    }\n",
       "\n",
       "    .dataframe thead th {\n",
       "        text-align: right;\n",
       "    }\n",
       "</style>\n",
       "<table border=\"1\" class=\"dataframe\">\n",
       "  <thead>\n",
       "    <tr style=\"text-align: right;\">\n",
       "      <th></th>\n",
       "      <th>target</th>\n",
       "    </tr>\n",
       "    <tr>\n",
       "      <th>id</th>\n",
       "      <th></th>\n",
       "    </tr>\n",
       "  </thead>\n",
       "  <tbody>\n",
       "    <tr>\n",
       "      <th>0</th>\n",
       "      <td>0.5</td>\n",
       "    </tr>\n",
       "    <tr>\n",
       "      <th>5</th>\n",
       "      <td>0.5</td>\n",
       "    </tr>\n",
       "    <tr>\n",
       "      <th>15</th>\n",
       "      <td>0.5</td>\n",
       "    </tr>\n",
       "    <tr>\n",
       "      <th>16</th>\n",
       "      <td>0.5</td>\n",
       "    </tr>\n",
       "    <tr>\n",
       "      <th>17</th>\n",
       "      <td>0.5</td>\n",
       "    </tr>\n",
       "  </tbody>\n",
       "</table>\n",
       "</div>"
      ],
      "text/plain": [
       "    target\n",
       "id        \n",
       "0      0.5\n",
       "5      0.5\n",
       "15     0.5\n",
       "16     0.5\n",
       "17     0.5"
      ]
     },
     "metadata": {},
     "output_type": "display_data"
    }
   ],
   "source": [
    "submission = pd.read_csv(input_path / 'sample_submission.csv', index_col='id')\n",
    "display(submission.head())"
   ]
  },
  {
   "cell_type": "markdown",
   "metadata": {
    "papermill": {
     "duration": 0.014424,
     "end_time": "2021-03-07T20:50:13.841077",
     "exception": false,
     "start_time": "2021-03-07T20:50:13.826653",
     "status": "completed"
    },
    "tags": []
   },
   "source": [
    "## We need to encode the categoricals.\n",
    "\n",
    "There are different strategies to accomplish this, and different approaches will have different performance when using different algorithms. For this starter notebook, we'll use simple encoding."
   ]
  },
  {
   "cell_type": "code",
   "execution_count": 5,
   "metadata": {
    "execution": {
     "iopub.execute_input": "2021-03-07T20:50:13.966244Z",
     "iopub.status.busy": "2021-03-07T20:50:13.965309Z",
     "iopub.status.idle": "2021-03-07T20:50:17.333894Z",
     "shell.execute_reply": "2021-03-07T20:50:17.333375Z"
    },
    "papermill": {
     "duration": 3.478677,
     "end_time": "2021-03-07T20:50:17.334041",
     "exception": false,
     "start_time": "2021-03-07T20:50:13.855364",
     "status": "completed"
    },
    "tags": []
   },
   "outputs": [
    {
     "data": {
      "text/html": [
       "<div>\n",
       "<style scoped>\n",
       "    .dataframe tbody tr th:only-of-type {\n",
       "        vertical-align: middle;\n",
       "    }\n",
       "\n",
       "    .dataframe tbody tr th {\n",
       "        vertical-align: top;\n",
       "    }\n",
       "\n",
       "    .dataframe thead th {\n",
       "        text-align: right;\n",
       "    }\n",
       "</style>\n",
       "<table border=\"1\" class=\"dataframe\">\n",
       "  <thead>\n",
       "    <tr style=\"text-align: right;\">\n",
       "      <th></th>\n",
       "      <th>cat0</th>\n",
       "      <th>cat1</th>\n",
       "      <th>cat2</th>\n",
       "      <th>cat3</th>\n",
       "      <th>cat4</th>\n",
       "      <th>cat5</th>\n",
       "      <th>cat6</th>\n",
       "      <th>cat7</th>\n",
       "      <th>cat8</th>\n",
       "      <th>cat9</th>\n",
       "      <th>...</th>\n",
       "      <th>cont5</th>\n",
       "      <th>cont6</th>\n",
       "      <th>cont7</th>\n",
       "      <th>cont8</th>\n",
       "      <th>cont9</th>\n",
       "      <th>cont10</th>\n",
       "      <th>cont11</th>\n",
       "      <th>cont12</th>\n",
       "      <th>cont13</th>\n",
       "      <th>target</th>\n",
       "    </tr>\n",
       "    <tr>\n",
       "      <th>id</th>\n",
       "      <th></th>\n",
       "      <th></th>\n",
       "      <th></th>\n",
       "      <th></th>\n",
       "      <th></th>\n",
       "      <th></th>\n",
       "      <th></th>\n",
       "      <th></th>\n",
       "      <th></th>\n",
       "      <th></th>\n",
       "      <th></th>\n",
       "      <th></th>\n",
       "      <th></th>\n",
       "      <th></th>\n",
       "      <th></th>\n",
       "      <th></th>\n",
       "      <th></th>\n",
       "      <th></th>\n",
       "      <th></th>\n",
       "      <th></th>\n",
       "      <th></th>\n",
       "    </tr>\n",
       "  </thead>\n",
       "  <tbody>\n",
       "    <tr>\n",
       "      <th>1</th>\n",
       "      <td>0</td>\n",
       "      <td>1</td>\n",
       "      <td>0</td>\n",
       "      <td>0</td>\n",
       "      <td>1</td>\n",
       "      <td>3</td>\n",
       "      <td>0</td>\n",
       "      <td>4</td>\n",
       "      <td>2</td>\n",
       "      <td>8</td>\n",
       "      <td>...</td>\n",
       "      <td>0.881122</td>\n",
       "      <td>0.421650</td>\n",
       "      <td>0.741413</td>\n",
       "      <td>0.895799</td>\n",
       "      <td>0.802461</td>\n",
       "      <td>0.724417</td>\n",
       "      <td>0.701915</td>\n",
       "      <td>0.877618</td>\n",
       "      <td>0.719903</td>\n",
       "      <td>6.994023</td>\n",
       "    </tr>\n",
       "    <tr>\n",
       "      <th>2</th>\n",
       "      <td>1</td>\n",
       "      <td>0</td>\n",
       "      <td>0</td>\n",
       "      <td>0</td>\n",
       "      <td>1</td>\n",
       "      <td>1</td>\n",
       "      <td>0</td>\n",
       "      <td>4</td>\n",
       "      <td>0</td>\n",
       "      <td>5</td>\n",
       "      <td>...</td>\n",
       "      <td>0.440011</td>\n",
       "      <td>0.346230</td>\n",
       "      <td>0.278495</td>\n",
       "      <td>0.593413</td>\n",
       "      <td>0.546056</td>\n",
       "      <td>0.613252</td>\n",
       "      <td>0.741289</td>\n",
       "      <td>0.326679</td>\n",
       "      <td>0.808464</td>\n",
       "      <td>8.071256</td>\n",
       "    </tr>\n",
       "    <tr>\n",
       "      <th>3</th>\n",
       "      <td>0</td>\n",
       "      <td>0</td>\n",
       "      <td>0</td>\n",
       "      <td>2</td>\n",
       "      <td>1</td>\n",
       "      <td>3</td>\n",
       "      <td>0</td>\n",
       "      <td>1</td>\n",
       "      <td>2</td>\n",
       "      <td>13</td>\n",
       "      <td>...</td>\n",
       "      <td>0.914155</td>\n",
       "      <td>0.369602</td>\n",
       "      <td>0.832564</td>\n",
       "      <td>0.865620</td>\n",
       "      <td>0.825251</td>\n",
       "      <td>0.264104</td>\n",
       "      <td>0.695561</td>\n",
       "      <td>0.869133</td>\n",
       "      <td>0.828352</td>\n",
       "      <td>5.760456</td>\n",
       "    </tr>\n",
       "    <tr>\n",
       "      <th>4</th>\n",
       "      <td>0</td>\n",
       "      <td>0</td>\n",
       "      <td>0</td>\n",
       "      <td>2</td>\n",
       "      <td>1</td>\n",
       "      <td>3</td>\n",
       "      <td>0</td>\n",
       "      <td>4</td>\n",
       "      <td>6</td>\n",
       "      <td>10</td>\n",
       "      <td>...</td>\n",
       "      <td>0.934138</td>\n",
       "      <td>0.578930</td>\n",
       "      <td>0.407313</td>\n",
       "      <td>0.868099</td>\n",
       "      <td>0.794402</td>\n",
       "      <td>0.494269</td>\n",
       "      <td>0.698125</td>\n",
       "      <td>0.809799</td>\n",
       "      <td>0.614766</td>\n",
       "      <td>7.806457</td>\n",
       "    </tr>\n",
       "    <tr>\n",
       "      <th>6</th>\n",
       "      <td>0</td>\n",
       "      <td>1</td>\n",
       "      <td>0</td>\n",
       "      <td>0</td>\n",
       "      <td>1</td>\n",
       "      <td>1</td>\n",
       "      <td>0</td>\n",
       "      <td>4</td>\n",
       "      <td>2</td>\n",
       "      <td>5</td>\n",
       "      <td>...</td>\n",
       "      <td>0.382600</td>\n",
       "      <td>0.705940</td>\n",
       "      <td>0.325193</td>\n",
       "      <td>0.440967</td>\n",
       "      <td>0.462146</td>\n",
       "      <td>0.724447</td>\n",
       "      <td>0.683073</td>\n",
       "      <td>0.343457</td>\n",
       "      <td>0.297743</td>\n",
       "      <td>6.868974</td>\n",
       "    </tr>\n",
       "  </tbody>\n",
       "</table>\n",
       "<p>5 rows × 25 columns</p>\n",
       "</div>"
      ],
      "text/plain": [
       "    cat0  cat1  cat2  cat3  cat4  cat5  cat6  cat7  cat8  cat9  ...     cont5  \\\n",
       "id                                                              ...             \n",
       "1      0     1     0     0     1     3     0     4     2     8  ...  0.881122   \n",
       "2      1     0     0     0     1     1     0     4     0     5  ...  0.440011   \n",
       "3      0     0     0     2     1     3     0     1     2    13  ...  0.914155   \n",
       "4      0     0     0     2     1     3     0     4     6    10  ...  0.934138   \n",
       "6      0     1     0     0     1     1     0     4     2     5  ...  0.382600   \n",
       "\n",
       "       cont6     cont7     cont8     cont9    cont10    cont11    cont12  \\\n",
       "id                                                                         \n",
       "1   0.421650  0.741413  0.895799  0.802461  0.724417  0.701915  0.877618   \n",
       "2   0.346230  0.278495  0.593413  0.546056  0.613252  0.741289  0.326679   \n",
       "3   0.369602  0.832564  0.865620  0.825251  0.264104  0.695561  0.869133   \n",
       "4   0.578930  0.407313  0.868099  0.794402  0.494269  0.698125  0.809799   \n",
       "6   0.705940  0.325193  0.440967  0.462146  0.724447  0.683073  0.343457   \n",
       "\n",
       "      cont13    target  \n",
       "id                      \n",
       "1   0.719903  6.994023  \n",
       "2   0.808464  8.071256  \n",
       "3   0.828352  5.760456  \n",
       "4   0.614766  7.806457  \n",
       "6   0.297743  6.868974  \n",
       "\n",
       "[5 rows x 25 columns]"
      ]
     },
     "metadata": {},
     "output_type": "display_data"
    }
   ],
   "source": [
    "for c in train.columns:\n",
    "    if train[c].dtype=='object': \n",
    "        lbl = LabelEncoder()\n",
    "        lbl.fit(list(train[c].values) + list(test[c].values))\n",
    "        train[c] = lbl.transform(train[c].values)\n",
    "        test[c] = lbl.transform(test[c].values)\n",
    "        \n",
    "display(train.head())"
   ]
  },
  {
   "cell_type": "markdown",
   "metadata": {
    "papermill": {
     "duration": 0.014391,
     "end_time": "2021-03-07T20:50:17.363365",
     "exception": false,
     "start_time": "2021-03-07T20:50:17.348974",
     "status": "completed"
    },
    "tags": []
   },
   "source": [
    "## Pull out the target, and make a validation split"
   ]
  },
  {
   "cell_type": "code",
   "execution_count": 6,
   "metadata": {
    "execution": {
     "iopub.execute_input": "2021-03-07T20:50:17.399724Z",
     "iopub.status.busy": "2021-03-07T20:50:17.398181Z",
     "iopub.status.idle": "2021-03-07T20:50:17.514296Z",
     "shell.execute_reply": "2021-03-07T20:50:17.513685Z"
    },
    "papermill": {
     "duration": 0.136388,
     "end_time": "2021-03-07T20:50:17.514445",
     "exception": false,
     "start_time": "2021-03-07T20:50:17.378057",
     "status": "completed"
    },
    "tags": []
   },
   "outputs": [],
   "source": [
    "target = train.pop('target')\n",
    "X_train, X_test, y_train, y_test = train_test_split(train, target, train_size=0.60)"
   ]
  },
  {
   "cell_type": "markdown",
   "metadata": {
    "papermill": {
     "duration": 0.014627,
     "end_time": "2021-03-07T20:50:17.545551",
     "exception": false,
     "start_time": "2021-03-07T20:50:17.530924",
     "status": "completed"
    },
    "tags": []
   },
   "source": [
    "# How well can we do with a completely naive model?\n",
    "\n",
    "We'll want any of our models to do (hopefully much!) better than this."
   ]
  },
  {
   "cell_type": "code",
   "execution_count": 7,
   "metadata": {
    "execution": {
     "iopub.execute_input": "2021-03-07T20:50:17.581792Z",
     "iopub.status.busy": "2021-03-07T20:50:17.580803Z",
     "iopub.status.idle": "2021-03-07T20:50:17.594600Z",
     "shell.execute_reply": "2021-03-07T20:50:17.593488Z"
    },
    "papermill": {
     "duration": 0.034319,
     "end_time": "2021-03-07T20:50:17.594787",
     "exception": false,
     "start_time": "2021-03-07T20:50:17.560468",
     "status": "completed"
    },
    "tags": []
   },
   "outputs": [
    {
     "name": "stdout",
     "output_type": "stream",
     "text": [
      "0.88626\n"
     ]
    }
   ],
   "source": [
    "# Let's get a benchmark score\n",
    "model_dummy = DummyRegressor(strategy='median')\n",
    "model_dummy.fit(X_train, y_train)\n",
    "y_dummy = model_dummy.predict(X_test)\n",
    "score_dummy = mean_squared_error(y_test, y_dummy, squared=False)\n",
    "print(f'{score_dummy:0.5f}')"
   ]
  },
  {
   "cell_type": "markdown",
   "metadata": {
    "papermill": {
     "duration": 0.015394,
     "end_time": "2021-03-07T20:50:17.626521",
     "exception": false,
     "start_time": "2021-03-07T20:50:17.611127",
     "status": "completed"
    },
    "tags": []
   },
   "source": [
    "# Simple Linear Regression\n",
    "\n",
    "A simple linear regression doesn't do better than our dummy regressor! (Alghouth, simple categorical encoding really doesn't make sense for this approach!)"
   ]
  },
  {
   "cell_type": "code",
   "execution_count": 8,
   "metadata": {
    "execution": {
     "iopub.execute_input": "2021-03-07T20:50:17.665515Z",
     "iopub.status.busy": "2021-03-07T20:50:17.664871Z",
     "iopub.status.idle": "2021-03-07T20:50:17.851636Z",
     "shell.execute_reply": "2021-03-07T20:50:17.852838Z"
    },
    "papermill": {
     "duration": 0.2111,
     "end_time": "2021-03-07T20:50:17.853108",
     "exception": false,
     "start_time": "2021-03-07T20:50:17.642008",
     "status": "completed"
    },
    "tags": []
   },
   "outputs": [
    {
     "name": "stdout",
     "output_type": "stream",
     "text": [
      "0.86679\n"
     ]
    }
   ],
   "source": [
    "# Simple Linear Regression\n",
    "model_simple_linear = LinearRegression(fit_intercept=True) # data is not centered, we need an intercept!\n",
    "model_simple_linear.fit(X_train, y_train)\n",
    "y_simple_linear = model_simple_linear.predict(X_test)\n",
    "score_simple_linear = mean_squared_error(y_test, y_simple_linear, squared=False)\n",
    "print(f'{score_simple_linear:0.5f}')"
   ]
  },
  {
   "cell_type": "markdown",
   "metadata": {
    "papermill": {
     "duration": 0.02847,
     "end_time": "2021-03-07T20:50:17.910324",
     "exception": false,
     "start_time": "2021-03-07T20:50:17.881854",
     "status": "completed"
    },
    "tags": []
   },
   "source": [
    "# This seems slow and repetative. Can we automate it a bit?"
   ]
  },
  {
   "cell_type": "code",
   "execution_count": 9,
   "metadata": {
    "execution": {
     "iopub.execute_input": "2021-03-07T20:50:17.950464Z",
     "iopub.status.busy": "2021-03-07T20:50:17.949846Z",
     "iopub.status.idle": "2021-03-07T20:50:17.953123Z",
     "shell.execute_reply": "2021-03-07T20:50:17.952578Z"
    },
    "papermill": {
     "duration": 0.026547,
     "end_time": "2021-03-07T20:50:17.953262",
     "exception": false,
     "start_time": "2021-03-07T20:50:17.926715",
     "status": "completed"
    },
    "tags": []
   },
   "outputs": [],
   "source": [
    "def plot_results(name, y, yhat, num_to_plot=10000, lims=(0,12), figsize=(6,6)):\n",
    "    plt.figure(figsize=figsize)\n",
    "    score = mean_squared_error(y, yhat, squared=False)\n",
    "    plt.scatter(y[:num_to_plot], yhat[:num_to_plot])\n",
    "    plt.plot(lims, lims)\n",
    "    plt.ylim(lims)\n",
    "    plt.xlim(lims)\n",
    "    plt.title(f'{name}: {score:0.5f}', fontsize=18)\n",
    "    plt.show()"
   ]
  },
  {
   "cell_type": "code",
   "execution_count": 10,
   "metadata": {
    "execution": {
     "iopub.execute_input": "2021-03-07T20:50:17.993213Z",
     "iopub.status.busy": "2021-03-07T20:50:17.992514Z",
     "iopub.status.idle": "2021-03-07T20:51:57.743605Z",
     "shell.execute_reply": "2021-03-07T20:51:57.744128Z"
    },
    "papermill": {
     "duration": 99.77481,
     "end_time": "2021-03-07T20:51:57.744314",
     "exception": false,
     "start_time": "2021-03-07T20:50:17.969504",
     "status": "completed"
    },
    "tags": []
   },
   "outputs": [
    {
     "data": {
      "image/png": "[encoded data removed]",
      "text/plain": [
       "<Figure size 432x432 with 1 Axes>"
      ]
     },
     "metadata": {
      "needs_background": "light"
     },
     "output_type": "display_data"
    },
    {
     "data": {
      "image/png": "[encoded data removed]",
      "text/plain": [
       "<Figure size 432x432 with 1 Axes>"
      ]
     },
     "metadata": {
      "needs_background": "light"
     },
     "output_type": "display_data"
    },
    {
     "data": {
      "image/png": "[encoded data removed]",
      "text/plain": [
       "<Figure size 432x432 with 1 Axes>"
      ]
     },
     "metadata": {
      "needs_background": "light"
     },
     "output_type": "display_data"
    },
    {
     "data": {
      "image/png": "[encoded data removed]",
      "text/plain": [
       "<Figure size 432x432 with 1 Axes>"
      ]
     },
     "metadata": {
      "needs_background": "light"
     },
     "output_type": "display_data"
    }
   ],
   "source": [
    "model_names = [\"Dummy Median\", \"Linear\",  \"Lasso\", \"Random Forest\"]\n",
    "\n",
    "models = [\n",
    "    DummyRegressor(strategy='median'),\n",
    "    LinearRegression(fit_intercept=True),\n",
    "    Lasso(fit_intercept=True),\n",
    "    RandomForestRegressor(n_estimators=50, n_jobs=-1)]\n",
    "\n",
    "for name, model in zip(model_names, models):\n",
    "    model.fit(X_train, y_train)\n",
    "    y_pred = model.predict(X_test)\n",
    "    plot_results(name, y_test, y_pred)"
   ]
  },
  {
   "cell_type": "markdown",
   "metadata": {
    "papermill": {
     "duration": 0.019486,
     "end_time": "2021-03-07T20:51:57.783462",
     "exception": false,
     "start_time": "2021-03-07T20:51:57.763976",
     "status": "completed"
    },
    "tags": []
   },
   "source": [
    "# It look like RandomForest did the best. Let's train it on all the data and make a submission!"
   ]
  },
  {
   "cell_type": "code",
   "execution_count": 11,
   "metadata": {
    "execution": {
     "iopub.execute_input": "2021-03-07T20:51:57.831575Z",
     "iopub.status.busy": "2021-03-07T20:51:57.830309Z",
     "iopub.status.idle": "2021-03-07T20:54:57.540039Z",
     "shell.execute_reply": "2021-03-07T20:54:57.538981Z"
    },
    "papermill": {
     "duration": 179.73712,
     "end_time": "2021-03-07T20:54:57.540216",
     "exception": false,
     "start_time": "2021-03-07T20:51:57.803096",
     "status": "completed"
    },
    "tags": []
   },
   "outputs": [],
   "source": [
    "model = RandomForestRegressor(n_estimators=50, n_jobs=-1)\n",
    "model.fit(train, target)\n",
    "submission['target'] = model.predict(test)\n",
    "submission.to_csv('random_forest.csv')"
   ]
  },
  {
   "cell_type": "markdown",
   "metadata": {
    "papermill": {
     "duration": 0.019537,
     "end_time": "2021-03-07T20:54:57.580033",
     "exception": false,
     "start_time": "2021-03-07T20:54:57.560496",
     "status": "completed"
    },
    "tags": []
   },
   "source": [
    "## Now you should save your Notebook (blue button in the upper right), and then when that's complete go to the notebook viewer and make a submission to the competition. :-)\n",
    "\n",
    "## There's lots of room for improvement. What things can you try to get a better score?"
   ]
  }
 ],
 "metadata": {
  "kernelspec": {
   "display_name": "Python 3",
   "language": "python",
   "name": "python3"
  },
  "language_info": {
   "codemirror_mode": {
    "name": "ipython",
    "version": 3
   },
   "file_extension": ".py",
   "mimetype": "text/x-python",
   "name": "python",
   "nbconvert_exporter": "python",
   "pygments_lexer": "ipython3",
   "version": "3.7.9"
  },
  "papermill": {
   "default_parameters": {},
   "duration": 296.083009,
   "end_time": "2021-03-07T20:54:58.309268",
   "environment_variables": {},
   "exception": null,
   "input_path": "__notebook__.ipynb",
   "output_path": "__notebook__.ipynb",
   "parameters": {},
   "start_time": "2021-03-07T20:50:02.226259",
   "version": "2.2.2"
  }
 },
 "nbformat": 4,
 "nbformat_minor": 4
}
